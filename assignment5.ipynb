{
 "cells": [
  {
   "cell_type": "markdown",
   "metadata": {},
   "source": [
    "# Assignment no 5\n",
    "Name: Vishal Pattar \\\n",
    "Roll no: 33557 \\\n",
    "Class: TE AIML \\\n",
    "Subject: Machine Intelligence for Data Science"
   ]
  },
  {
   "cell_type": "code",
   "execution_count": 6,
   "metadata": {},
   "outputs": [],
   "source": [
    "import numpy as np\n",
    "from sklearn.cluster import KMeans"
   ]
  },
  {
   "cell_type": "code",
   "execution_count": 7,
   "metadata": {},
   "outputs": [],
   "source": [
    "# Define the points\n",
    "points = np.array([[0.1, 0.6],\n",
    "                   [0.15, 0.71],\n",
    "                   [0.08, 0.9],\n",
    "                   [0.16, 0.85],\n",
    "                   [0.2, 0.3],\n",
    "                   [0.25, 0.5],\n",
    "                   [0.24, 0.1],\n",
    "                   [0.3, 0.2]])\n",
    "\n",
    "# Define initial centroids\n",
    "initial_centroids = np.array([[0.1, 0.6],  # m1 = P1\n",
    "                              [0.3, 0.2]]) # m2 = P8\n",
    "\n",
    "# Perform k-means clustering\n",
    "kmeans = KMeans(n_clusters=2, init=initial_centroids, n_init=1).fit(points)"
   ]
  },
  {
   "cell_type": "code",
   "execution_count": 8,
   "metadata": {},
   "outputs": [
    {
     "name": "stdout",
     "output_type": "stream",
     "text": [
      "P6 belongs to Cluster: 1\n"
     ]
    }
   ],
   "source": [
    "# 1) Which cluster does P6 belong to?\n",
    "p6_cluster = kmeans.predict([[0.25, 0.5]])\n",
    "print(\"P6 belongs to Cluster:\", p6_cluster[0] + 1)"
   ]
  },
  {
   "cell_type": "code",
   "execution_count": 9,
   "metadata": {},
   "outputs": [
    {
     "name": "stdout",
     "output_type": "stream",
     "text": [
      "Population of cluster around m2: 3\n"
     ]
    }
   ],
   "source": [
    "# 2) What is the population of cluster around m2?\n",
    "m2_population = np.sum(kmeans.labels_ == 1)\n",
    "print(\"Population of cluster around m2:\", m2_population)"
   ]
  },
  {
   "cell_type": "code",
   "execution_count": 10,
   "metadata": {},
   "outputs": [
    {
     "name": "stdout",
     "output_type": "stream",
     "text": [
      "Updated value of m1: [0.148 0.712]\n",
      "Updated value of m2: [0.24666667 0.2       ]\n"
     ]
    }
   ],
   "source": [
    "# 3) What is updated value of m1 and m2?\n",
    "updated_centroids = kmeans.cluster_centers_\n",
    "print(\"Updated value of m1:\", updated_centroids[0])\n",
    "print(\"Updated value of m2:\", updated_centroids[1])"
   ]
  }
 ],
 "metadata": {
  "kernelspec": {
   "display_name": "Python 3",
   "language": "python",
   "name": "python3"
  },
  "language_info": {
   "codemirror_mode": {
    "name": "ipython",
    "version": 3
   },
   "file_extension": ".py",
   "mimetype": "text/x-python",
   "name": "python",
   "nbconvert_exporter": "python",
   "pygments_lexer": "ipython3",
   "version": "3.11.5"
  }
 },
 "nbformat": 4,
 "nbformat_minor": 2
}
